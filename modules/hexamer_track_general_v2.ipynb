{
 "cells": [
  {
   "cell_type": "code",
   "execution_count": 2,
   "metadata": {
    "tags": []
   },
   "outputs": [
    {
     "name": "stdout",
     "output_type": "stream",
     "text": [
      "jklab1\n"
     ]
    }
   ],
   "source": [
    "import socket\n",
    "import sys, os\n",
    "\n",
    "servername = socket.gethostname()\n",
    "print(servername)\n",
    "\n",
    "# homedir = '/Users/jinkuk/'"
   ]
  },
  {
   "cell_type": "code",
   "execution_count": 3,
   "metadata": {},
   "outputs": [],
   "source": [
    "import sys,os\n",
    "import re\n",
    "import glob\n",
    "import pandas as pd\n",
    "import numpy as np\n",
    "import scipy.stats"
   ]
  },
  {
   "cell_type": "code",
   "execution_count": 4,
   "metadata": {},
   "outputs": [],
   "source": [
    "if 'ipykernel' in sys.argv[0]: # jupyter\n",
    "\n",
    "    %matplotlib inline\n",
    "    from pylab import *\n",
    "    import matplotlib.pyplot as plt\n",
    "    import matplotlib.patches as patches\n",
    "\n",
    "    rc('mathtext', default='regular')\n",
    "    fsize=15"
   ]
  },
  {
   "cell_type": "code",
   "execution_count": 5,
   "metadata": {},
   "outputs": [
    {
     "data": {
      "text/plain": [
       "&#39;jklab1&#39;"
      ]
     },
     "execution_count": 5,
     "metadata": {},
     "output_type": "execute_result"
    }
   ],
   "source": [
    "socket.gethostname()"
   ]
  },
  {
   "cell_type": "code",
   "execution_count": 6,
   "metadata": {},
   "outputs": [],
   "source": [
    "homedir = os.getcwd()\n",
    "# sys.path.append('%s/C/modules' % homedir)\n",
    "sys.path.append(homedir)\n",
    "import jkgenome\n",
    "import dnatools"
   ]
  },
  {
   "cell_type": "code",
   "execution_count": 7,
   "metadata": {
    "scrolled": true
   },
   "outputs": [
    {
     "ename": "ValueError",
     "evalue": "could not convert string to float: &#39;&#39;",
     "output_type": "error",
     "traceback": [
      "\u001b[0;31m---------------------------------------------------------------------------\u001b[0m",
      "\u001b[0;31mValueError\u001b[0m                                Traceback (most recent call last)",
      "\u001b[0;32m&lt;ipython-input-7-b8e9f51e1de2&gt;\u001b[0m in \u001b[0;36m&lt;module&gt;\u001b[0;34m\u001b[0m\n\u001b[0;32m----&gt; 1\u001b[0;31m \u001b[0mjkgenome\u001b[0m\u001b[0;34m.\u001b[0m\u001b[0mmes3\u001b[0m\u001b[0;34m(\u001b[0m\u001b[0;34m&#39;TTTCTGTGTCCTTCCTCCAACCC&#39;\u001b[0m\u001b[0;34m)\u001b[0m\u001b[0;34m\u001b[0m\u001b[0;34m\u001b[0m\u001b[0m\n\u001b[0m",
      "\u001b[0;32m/HDD8/ypil/djg-api-test/modules/jkgenome.py\u001b[0m in \u001b[0;36mmes3\u001b[0;34m(seq)\u001b[0m\n\u001b[1;32m    882\u001b[0m         \u001b[0;32mraise\u001b[0m \u001b[0mException\u001b[0m\u001b[0;34m\u001b[0m\u001b[0;34m\u001b[0m\u001b[0m\n\u001b[1;32m    883\u001b[0m \u001b[0;34m\u001b[0m\u001b[0m\n\u001b[0;32m--&gt; 884\u001b[0;31m     \u001b[0;32mreturn\u001b[0m \u001b[0mfloat\u001b[0m\u001b[0;34m(\u001b[0m\u001b[0mos\u001b[0m\u001b[0;34m.\u001b[0m\u001b[0mpopen\u001b[0m\u001b[0;34m(\u001b[0m\u001b[0;34m&#39;cd %s/tools/maxentscan; perl score3_mod.pl %s&#39;\u001b[0m \u001b[0;34m%\u001b[0m \u001b[0;34m(\u001b[0m\u001b[0mhomedir\u001b[0m\u001b[0;34m,\u001b[0m\u001b[0mseq\u001b[0m\u001b[0;34m)\u001b[0m\u001b[0;34m)\u001b[0m\u001b[0;34m.\u001b[0m\u001b[0mreadline\u001b[0m\u001b[0;34m(\u001b[0m\u001b[0;34m)\u001b[0m\u001b[0;34m)\u001b[0m\u001b[0;34m\u001b[0m\u001b[0;34m\u001b[0m\u001b[0m\n\u001b[0m\u001b[1;32m    885\u001b[0m \u001b[0;34m\u001b[0m\u001b[0m\n\u001b[1;32m    886\u001b[0m \u001b[0;32mdef\u001b[0m \u001b[0mmes5_scan\u001b[0m\u001b[0;34m(\u001b[0m\u001b[0mseq\u001b[0m\u001b[0;34m)\u001b[0m\u001b[0;34m:\u001b[0m\u001b[0;34m\u001b[0m\u001b[0;34m\u001b[0m\u001b[0m\n",
      "\u001b[0;31mValueError\u001b[0m: could not convert string to float: &#39;&#39;"
     ]
    }
   ],
   "source": [
    "jkgenome.mes3('TTTCTGTGTCCTTCCTCCAACCC')"
   ]
  },
  {
   "cell_type": "code",
   "execution_count": null,
   "metadata": {},
   "outputs": [],
   "source": [
    "jkgenome.mes3('TTTCTGTGTCCTTCCTCCAGCCC') "
   ]
  },
  {
   "cell_type": "code",
   "execution_count": null,
   "metadata": {},
   "outputs": [],
   "source": [
    "# #test_seq= 'CAAACTTAGATGCCACTCAGTGGAAGACTCA'\n",
    "# test_seq= 'TTTGTGATGCTTATATTATA'\n",
    "\n",
    "# for i in range(len(test_seq)-5):\n",
    "#     print(test_seq[i:i+6],hexH[test_seq[i:i+6]])"
   ]
  },
  {
   "cell_type": "code",
   "execution_count": null,
   "metadata": {},
   "outputs": [],
   "source": [
    "#region = ('chr17',42427120-1,42427120+100,'+')\n",
    "#region = ('chr11',108151896-1,108151896+100,'+')\n",
    "\n",
    "#region = ('chr18',21132699,21132892,'-')\n",
    "#region = ('chr18',21132892,21132892+100,'-')\n",
    "region = ('chr14',31549779,31549850,'+')"
   ]
  },
  {
   "cell_type": "code",
   "execution_count": null,
   "metadata": {},
   "outputs": [],
   "source": [
    "locus = jkgenome.locus('%s:%s-%s%s' % region) "
   ]
  },
  {
   "cell_type": "code",
   "execution_count": null,
   "metadata": {},
   "outputs": [],
   "source": [
    "seq = locus.twoBitFrag('hg38')\n",
    "len(seq)"
   ]
  },
  {
   "cell_type": "code",
   "execution_count": null,
   "metadata": {},
   "outputs": [],
   "source": [
    "seq"
   ]
  },
  {
   "cell_type": "code",
   "execution_count": null,
   "metadata": {},
   "outputs": [],
   "source": [
    "hexH4 = jkgenome.load_hexamer4()"
   ]
  },
  {
   "cell_type": "code",
   "execution_count": null,
   "metadata": {},
   "outputs": [],
   "source": [
    "hexH4.keys()"
   ]
  },
  {
   "cell_type": "code",
   "execution_count": null,
   "metadata": {},
   "outputs": [],
   "source": [
    "sequence = 'GCACCAAAGGAGGAAATCTGCCTGCATGATCCAATCACCTCCCATCAGGCCCCACCTCCAACATTGGGTATT' //input 00"
   ]
  },
  {
   "cell_type": "code",
   "execution_count": null,
   "metadata": {},
   "outputs": [],
   "source": [
    "sequence = sequence.upper()"
   ]
  },
  {
   "cell_type": "code",
   "execution_count": null,
   "metadata": {},
   "outputs": [],
   "source": [
    "scoreH = jkgenome.hexamer_track(sequence,hexH4=hexH4) //output00"
   ]
  },
  {
   "cell_type": "code",
   "execution_count": null,
   "metadata": {},
   "outputs": [],
   "source": [
    "jkgenome.mes5('CAGGCGGGT')"
   ]
  },
  {
   "cell_type": "code",
   "execution_count": null,
   "metadata": {
    "scrolled": true
   },
   "outputs": [],
   "source": [
    "jkgenome.mes3('ACTCTTTTTCTGTCTTCAAGAGT')"
   ]
  },
  {
   "cell_type": "code",
   "execution_count": null,
   "metadata": {},
   "outputs": [],
   "source": []
  },
  {
   "cell_type": "code",
   "execution_count": null,
   "metadata": {
    "scrolled": true
   },
   "outputs": [],
   "source": [
    "jkgenome.hexamer4_byCoord('19',50364866,'-','G','C',hexH4,'hg19')"
   ]
  },
  {
   "cell_type": "code",
   "execution_count": null,
   "metadata": {},
   "outputs": [],
   "source": [
    "jkgenome.hexamer4_byCoord_general('1',94011394,94011395,'-','T','C',hexH4,'hg38')"
   ]
  },
  {
   "cell_type": "code",
   "execution_count": null,
   "metadata": {},
   "outputs": [],
   "source": [
    "jkgenome.mes_byCoord_subs('6',24504864,24504864,'+','C','T','hg38',verbose=True) "
   ]
  },
  {
   "cell_type": "code",
   "execution_count": null,
   "metadata": {},
   "outputs": [],
   "source": [
    "jkgenome.mes_byCoord('10',133369953,'-','A','T','hg38',verbose=True) "
   ]
  },
  {
   "cell_type": "code",
   "execution_count": null,
   "metadata": {},
   "outputs": [],
   "source": [
    "jkgenome.mes_byCoord('18',23556358,'-','G','A','hg38',verbose=True)"
   ]
  },
  {
   "cell_type": "code",
   "execution_count": null,
   "metadata": {},
   "outputs": [],
   "source": [
    "jkgenome.mes3('TTCCTCTCCCGTTCTTCCAGGAG')"
   ]
  },
  {
   "cell_type": "code",
   "execution_count": null,
   "metadata": {},
   "outputs": [],
   "source": [
    "p3 = jkgenome.mes3_scan('CTGCCCAGCATGTGACAAATCGTTCAAGACAGAAAAGGCGTAAGTTTATTAATTTAATTTAATTTAATTTTGAGACAGGGTCTCACTCTGTCACCAAGGCAGGAGTGCAGTGGCACAGTCATGACTCACCACAGCCTCGACCTGTTGAACTCAGATGATCCTCCCATGTCAGCCTCCCAAGTAGCTAGGGCTACAGGAACCTGCCATCATGGCCAGCTAAAAAACTGCAGTTACTTTTGCACCAACCTAAATATTTTCTTTGGAGATGGGGTTTTGCCATGTTGTCCAGGTTGGTCTTGAACTCCTGGATTCAAGTGTTCCACCTGCCTCAGCCTTTCAAAGTGCTAGGATTGCAAGCGTGAGCCACTGCATCCAGTTAAAAGGAGTAAGTTTAGTATCTCTGAACTTGTGTTTTCTTTTTTTTTTTTTTTTTTTTTTTGGAGACAGAGTCTCACTCTGTTGCCCCGGCTGGAGTGCAGTGGCACGATCTCAGCTCACTGCAACCTCCACCTCCTGGATTCAAGCGATTCTCCTGCCTCAAGCTCCCGAGTAGCTGGGACTACAGATGCAGGTCACCGCACCCAGCTAATTTTTGTATTTTTAGTAGAGACAGGGTCTCACCATGTTGGTCAGGCTGGTCTCAAACTCCTGGCCTCAGGCGATCCACCCACCTCGGCCTCCCAAAGTGTTGGGATTACAGGCGTGAGCCACAGCGCCTGGCCCTTGTGTTTTTTTTTGAGGTGAAGTGTAACATTTTGAAAGTTCTAAAAACAATGTGCTTGTAGCAGTTGATAACTAGCCCCACATACTGTCTCGGGGGATTCCTTTCCAGCAGGGTAGAAAGAGGTATTTGTACCTGCCATTAAACCTGTTGTACTGATTGTCACTCATCCCAGTATTCCTATAGCTGCTTTTAAAACACATGCACTGTCTCCAGAAGCATTGCTTGTTTTGGCAAAGAAGACATAGTCACATGGGCAAAAAGTCTAGACCGTGTCTAATCATCTCCCTCCATCATTGGTGTCAGACTCACTTCCCACCATCATTGTCCCATGCAGGCTGATGCTGCCAATATAGGGGCTTTAAACTTGTCTGGCCCAGAGTATCTTTGCTGAAGTGGAAGAACTTTATCTTAGGGGAACAATGATGAAGAAAGAAGTATTAAAACGGATACCATTATTATAAAGGAGGGAGGAAACAACACGGGAGAAAATGGGAGTAGAATCAGCAAGGGAAAAAAAGCAAAATGGGCAATCAGAGAGAAAGGAGGCCAAAGGATGAGAATGGCGCTGTGAGAGTCATAAATGGTATTACCATATGACCTCAGGGAGAAATGACAGAGTACTAGGGGAAGTGGAAAGAGGCAGAAAAATTAGAAACAAGCAAGAAAAAGGTCAACAATGAAGGAGATTAAAAATTTTTTTTTATTTGGAAATGACACACTTAAAGGTAAATTGCAAGAAGAGAATATAGTGTGTCTGATTGACCTGTTACTAACGTTTTGCACAATTTGCATGTCCTCTTTCTCTCTACACGCTCAACACACACACAGTATTTTTCTGAATAATTTGAAAGTAACTTACATATATAGTGTTCCTTTACCTCTAAATACTTCACTATATCTTAAGAATAAGGTTATTCTCGCTGGGCGCAGTGGCTCACGCCTGTAATCCCAGCACTTTGGGAGGTTGAGGTGGACAGATCACCTGAGGTTGGGAGTTTGAGACCAGCCTGACCAACATGGAGAAACCCCGTCTCTACTAAAACTACAAAATTAGCTGGGCGTGGTGACGCATACCTGTAATCCCAGCTACTCAGGAGGCTGAGGCAGGAGAATCGCTTGAACTCAGGAGGCGGAGGTTGTGGTGAGCCAAGATCGTGCCATTGCACTCCAGCCTGGGCAATAAGAGCAAAACTCCGTCTCAAAATAAAAAAAAAAAGTAAGGTTATTCTCTTATGTAACCATGCTACAGTGACCAAATAAAAGAAATTATTAACATTGATATGGTATTTTTATCTAATTTACTACCTGCATTCCAATTTTGCCAATCAATTATTTATTAATATAGAATTTTTCTCCAATACAGAATGCAGTCTAAGAACATAATCTGGAACAGCTTGTGTTGTCTTTTATGCTGTTTACATTTTAGAAGTACACTGTTTTCACTTTTTTCATAGAATTCTTCTCATTTTGTCTTTGTGCATTTCCTCATGATTAGATTCAGGTTATGCAGCCCCAGGAGGGACGCCGCACAAGCATGTTGTGCTCTCAGGGATTCATAGCTGGAGACACGTAAAGTCCTTCTACCCCTCATTTGTCGTGATAATTTTCATCACCCAATCAAGGTGTCATCTAATTTTACTACTATACTACTAATTTTACTATAGAGTTAGTATTTTTTCCCTTGCAACAGGTTTTCCCTTGTAACATGTTTAATCTGTGAGGAGACACTTTAAAACTATGCAGATATCTTGCTTCTCATAAAAGTTTTCCTCATAGCTTTAGCATCTGTTGATGGTTTTAGCTTGCGTCAGTCTTTTTTATGATGGTTGCAGAATGATGCTTTTCCAGTGCCAGTACCCCCTCAAGTTTTTATCAGTTAGCACTTGGCCTTCTGCTGTAAACAGGAGCCTTCCCTTTTATCCATTTATCTATTATCAGTTTGAATTTATTTCTTTTTTTCAGTGTTTTATAATTCATTACTGACCTTTTCATGCTCAAATTTTTCCAGAATTGGTTAGTGAGCATTCCTTCAAACCACCCTTGTGTCCTTTTGACATGTGCTTATAACTTTTTTGGAGGACTTACTTTCAGACACAGGATCTTCCATTATCTCCAGGGCAGCTTGGTCTCAAGGAGAATTTTAGTAGGAAAGAAAAACAGCAACTAAAACTATAATACCAAAAGCCTGAACAGATGAGATGAAGTAGATAGTTGACAAAGTTTCCTGCTTTTTAGTTGATATAACTCTTGTAGCTTATGTTGTCAACCCTGTTTTGTTGAATGCTTTTTAGTTGCCTGTAGGTGTGCTGAGACAGACATTGCCAGCAGGGTTTTGAACACAGGGATAGAGATGTGTCTGAATGTACGTTACGGTGGTGAGAGTGAGAAAGGAGACCTCTCCTGAGAAGGTGAAAAGCAGCTGTTGAAAAAGCAAGAGGCAGTAAACTGCTCTTGTATTTCAAGCCTTCCCACCACCATTTCTCTAGTCCAGGGGGCTCTTCCTTTTAACATTAAAATGTGTGTCTTCTAATTTCCCAGTGATCCCTCCAAGTCTGTGGGATGGCCTGGAATGTAAAAACACTTAGCAAATACTTAGTGATTAAAAGAAAACAATGGCGGAAGCTTTAAGAATTGAAAAATCAAAATAATAAGTAGAGAATTTGTCCAAACCTCCCCCTGCCGACATTCCCCCATCCCCAGAAAGGAAGAAAATGTATGTAGATAAAAGGACAGAGAAAGACAGGGAAAGCTGTGGTACGGAAAGAAAGAGTGTGGCCACGAGCTTCCAGTATGCTCACTGCCAAGGAATCCTGACACGTTCTGTTTCTCTGTATAAAATCATGAACAAATAAAAAAAAAGAAAAAAATAAATAGAATCAGAAACGTTTTGCTTAGTGGGAAAAAAGCTAATTTTATCTTGGTTGCAGTTATCCAGCAACATTATCTGGACACGTGAACTAATTTTAGCGCAGCTGCTCACGTCAGATTGCTCTTTCAGCATGAAGAATCACGAGAAGTCAAAGAAGCATCGGGAAATGGTGGCCTTGCTAAAACAACAGCTGG')"
   ]
  },
  {
   "cell_type": "code",
   "execution_count": null,
   "metadata": {},
   "outputs": [],
   "source": [
    "p5 = jkgenome.mes5_scan('CTGCCCAGCATGTGACAAATCGTTCAAGACAGAAAAGGCGTAAGTTTATTAATTTAATTTAATTTAATTTTGAGACAGGGTCTCACTCTGTCACCAAGGCAGGAGTGCAGTGGCACAGTCATGACTCACCACAGCCTCGACCTGTTGAACTCAGATGATCCTCCCATGTCAGCCTCCCAAGTAGCTAGGGCTACAGGAACCTGCCATCATGGCCAGCTAAAAAACTGCAGTTACTTTTGCACCAACCTAAATATTTTCTTTGGAGATGGGGTTTTGCCATGTTGTCCAGGTTGGTCTTGAACTCCTGGATTCAAGTGTTCCACCTGCCTCAGCCTTTCAAAGTGCTAGGATTGCAAGCGTGAGCCACTGCATCCAGTTAAAAGGAGTAAGTTTAGTATCTCTGAACTTGTGTTTTCTTTTTTTTTTTTTTTTTTTTTTTGGAGACAGAGTCTCACTCTGTTGCCCCGGCTGGAGTGCAGTGGCACGATCTCAGCTCACTGCAACCTCCACCTCCTGGATTCAAGCGATTCTCCTGCCTCAAGCTCCCGAGTAGCTGGGACTACAGATGCAGGTCACCGCACCCAGCTAATTTTTGTATTTTTAGTAGAGACAGGGTCTCACCATGTTGGTCAGGCTGGTCTCAAACTCCTGGCCTCAGGCGATCCACCCACCTCGGCCTCCCAAAGTGTTGGGATTACAGGCGTGAGCCACAGCGCCTGGCCCTTGTGTTTTTTTTTGAGGTGAAGTGTAACATTTTGAAAGTTCTAAAAACAATGTGCTTGTAGCAGTTGATAACTAGCCCCACATACTGTCTCGGGGGATTCCTTTCCAGCAGGGTAGAAAGAGGTATTTGTACCTGCCATTAAACCTGTTGTACTGATTGTCACTCATCCCAGTATTCCTATAGCTGCTTTTAAAACACATGCACTGTCTCCAGAAGCATTGCTTGTTTTGGCAAAGAAGACATAGTCACATGGGCAAAAAGTCTAGACCGTGTCTAATCATCTCCCTCCATCATTGGTGTCAGACTCACTTCCCACCATCATTGTCCCATGCAGGCTGATGCTGCCAATATAGGGGCTTTAAACTTGTCTGGCCCAGAGTATCTTTGCTGAAGTGGAAGAACTTTATCTTAGGGGAACAATGATGAAGAAAGAAGTATTAAAACGGATACCATTATTATAAAGGAGGGAGGAAACAACACGGGAGAAAATGGGAGTAGAATCAGCAAGGGAAAAAAAGCAAAATGGGCAATCAGAGAGAAAGGAGGCCAAAGGATGAGAATGGCGCTGTGAGAGTCATAAATGGTATTACCATATGACCTCAGGGAGAAATGACAGAGTACTAGGGGAAGTGGAAAGAGGCAGAAAAATTAGAAACAAGCAAGAAAAAGGTCAACAATGAAGGAGATTAAAAATTTTTTTTTATTTGGAAATGACACACTTAAAGGTAAATTGCAAGAAGAGAATATAGTGTGTCTGATTGACCTGTTACTAACGTTTTGCACAATTTGCATGTCCTCTTTCTCTCTACACGCTCAACACACACACAGTATTTTTCTGAATAATTTGAAAGTAACTTACATATATAGTGTTCCTTTACCTCTAAATACTTCACTATATCTTAAGAATAAGGTTATTCTCGCTGGGCGCAGTGGCTCACGCCTGTAATCCCAGCACTTTGGGAGGTTGAGGTGGACAGATCACCTGAGGTTGGGAGTTTGAGACCAGCCTGACCAACATGGAGAAACCCCGTCTCTACTAAAACTACAAAATTAGCTGGGCGTGGTGACGCATACCTGTAATCCCAGCTACTCAGGAGGCTGAGGCAGGAGAATCGCTTGAACTCAGGAGGCGGAGGTTGTGGTGAGCCAAGATCGTGCCATTGCACTCCAGCCTGGGCAATAAGAGCAAAACTCCGTCTCAAAATAAAAAAAAAAAGTAAGGTTATTCTCTTATGTAACCATGCTACAGTGACCAAATAAAAGAAATTATTAACATTGATATGGTATTTTTATCTAATTTACTACCTGCATTCCAATTTTGCCAATCAATTATTTATTAATATAGAATTTTTCTCCAATACAGAATGCAGTCTAAGAACATAATCTGGAACAGCTTGTGTTGTCTTTTATGCTGTTTACATTTTAGAAGTACACTGTTTTCACTTTTTTCATAGAATTCTTCTCATTTTGTCTTTGTGCATTTCCTCATGATTAGATTCAGGTTATGCAGCCCCAGGAGGGACGCCGCACAAGCATGTTGTGCTCTCAGGGATTCATAGCTGGAGACACGTAAAGTCCTTCTACCCCTCATTTGTCGTGATAATTTTCATCACCCAATCAAGGTGTCATCTAATTTTACTACTATACTACTAATTTTACTATAGAGTTAGTATTTTTTCCCTTGCAACAGGTTTTCCCTTGTAACATGTTTAATCTGTGAGGAGACACTTTAAAACTATGCAGATATCTTGCTTCTCATAAAAGTTTTCCTCATAGCTTTAGCATCTGTTGATGGTTTTAGCTTGCGTCAGTCTTTTTTATGATGGTTGCAGAATGATGCTTTTCCAGTGCCAGTACCCCCTCAAGTTTTTATCAGTTAGCACTTGGCCTTCTGCTGTAAACAGGAGCCTTCCCTTTTATCCATTTATCTATTATCAGTTTGAATTTATTTCTTTTTTTCAGTGTTTTATAATTCATTACTGACCTTTTCATGCTCAAATTTTTCCAGAATTGGTTAGTGAGCATTCCTTCAAACCACCCTTGTGTCCTTTTGACATGTGCTTATAACTTTTTTGGAGGACTTACTTTCAGACACAGGATCTTCCATTATCTCCAGGGCAGCTTGGTCTCAAGGAGAATTTTAGTAGGAAAGAAAAACAGCAACTAAAACTATAATACCAAAAGCCTGAACAGATGAGATGAAGTAGATAGTTGACAAAGTTTCCTGCTTTTTAGTTGATATAACTCTTGTAGCTTATGTTGTCAACCCTGTTTTGTTGAATGCTTTTTAGTTGCCTGTAGGTGTGCTGAGACAGACATTGCCAGCAGGGTTTTGAACACAGGGATAGAGATGTGTCTGAATGTACGTTACGGTGGTGAGAGTGAGAAAGGAGACCTCTCCTGAGAAGGTGAAAAGCAGCTGTTGAAAAAGCAAGAGGCAGTAAACTGCTCTTGTATTTCAAGCCTTCCCACCACCATTTCTCTAGTCCAGGGGGCTCTTCCTTTTAACATTAAAATGTGTGTCTTCTAATTTCCCAGTGATCCCTCCAAGTCTGTGGGATGGCCTGGAATGTAAAAACACTTAGCAAATACTTAGTGATTAAAAGAAAACAATGGCGGAAGCTTTAAGAATTGAAAAATCAAAATAATAAGTAGAGAATTTGTCCAAACCTCCCCCTGCCGACATTCCCCCATCCCCAGAAAGGAAGAAAATGTATGTAGATAAAAGGACAGAGAAAGACAGGGAAAGCTGTGGTACGGAAAGAAAGAGTGTGGCCACGAGCTTCCAGTATGCTCACTGCCAAGGAATCCTGACACGTTCTGTTTCTCTGTATAAAATCATGAACAAATAAAAAAAAAGAAAAAAATAAATAGAATCAGAAACGTTTTGCTTAGTGGGAAAAAAGCTAATTTTATCTTGGTTGCAGTTATCCAGCAACATTATCTGGACACGTGAACTAATTTTAGCGCAGCTGCTCACGTCAGATTGCTCTTTCAGCATGAAGAATCACGAGAAGTCAAAGAAGCATCGGGAAATGGTGGCCTTGCTAAAACAACAGCTGG')"
   ]
  },
  {
   "cell_type": "code",
   "execution_count": null,
   "metadata": {},
   "outputs": [],
   "source": [
    "# 422th"
   ]
  },
  {
   "cell_type": "code",
   "execution_count": null,
   "metadata": {},
   "outputs": [],
   "source": [
    "df = pd.DataFrame({'p3':p3,'p5':p5})"
   ]
  },
  {
   "cell_type": "code",
   "execution_count": null,
   "metadata": {},
   "outputs": [],
   "source": [
    "ax = df.plot(figsize=(50,10))\n",
    "ax.plot([421],[0],'o')"
   ]
  },
  {
   "cell_type": "code",
   "execution_count": null,
   "metadata": {},
   "outputs": [],
   "source": [
    "jkgenome.mes3('CTCTGCTCTTCTAACCCCAGTGG')"
   ]
  },
  {
   "cell_type": "code",
   "execution_count": null,
   "metadata": {},
   "outputs": [],
   "source": [
    "jkgenome.mes3('TGTTTTTGGACTCCCTCGAGGCC')"
   ]
  },
  {
   "cell_type": "code",
   "execution_count": null,
   "metadata": {},
   "outputs": [],
   "source": [
    "jkgenome.mes5('AAGGTGAGT')"
   ]
  },
  {
   "cell_type": "code",
   "execution_count": null,
   "metadata": {},
   "outputs": [],
   "source": [
    "jkgenome.mes5('AACGTAAGT')"
   ]
  },
  {
   "cell_type": "code",
   "execution_count": null,
   "metadata": {},
   "outputs": [],
   "source": [
    "jkgenome.mes5('AACGTAGGT')"
   ]
  },
  {
   "cell_type": "code",
   "execution_count": null,
   "metadata": {},
   "outputs": [],
   "source": [
    "jkgenome.mes3_scan('ccaaatgggcacccctataacagaacaaatcgctcacgaatgccaa')"
   ]
  },
  {
   "cell_type": "code",
   "execution_count": null,
   "metadata": {},
   "outputs": [],
   "source": []
  },
  {
   "cell_type": "code",
   "execution_count": null,
   "metadata": {},
   "outputs": [],
   "source": [
    "jkgenome.mes3_scan('ccaaatgggcacccctataacaacaaatcgctcacgaatgccaa')"
   ]
  },
  {
   "cell_type": "code",
   "execution_count": null,
   "metadata": {},
   "outputs": [],
   "source": [
    "jkgenome.mes5_scan('ctataacagaacaaatcg')"
   ]
  },
  {
   "cell_type": "code",
   "execution_count": null,
   "metadata": {},
   "outputs": [],
   "source": [
    "jkgenome.mes5_scan('GAAGTATGT')"
   ]
  },
  {
   "cell_type": "code",
   "execution_count": null,
   "metadata": {},
   "outputs": [],
   "source": [
    "jkgenome.hexamer('taacagaacaaa'.upper(),hexH4['3p_intron'])"
   ]
  },
  {
   "cell_type": "code",
   "execution_count": null,
   "metadata": {},
   "outputs": [],
   "source": []
  },
  {
   "cell_type": "markdown",
   "metadata": {},
   "source": [
    "## splice AI"
   ]
  },
  {
   "cell_type": "code",
   "execution_count": null,
   "metadata": {},
   "outputs": [],
   "source": [
    "reload(jkgenome)"
   ]
  },
  {
   "cell_type": "code",
   "execution_count": null,
   "metadata": {},
   "outputs": [],
   "source": [
    "jkgenome.spliceAI_run('chr11',108317413,'A','G')"
   ]
  },
  {
   "cell_type": "code",
   "execution_count": null,
   "metadata": {},
   "outputs": [],
   "source": [
    "# chr7:66,994,210\n",
    "jkgenome.spliceAI_run('chr11',108232543,'T','')"
   ]
  },
  {
   "cell_type": "code",
   "execution_count": null,
   "metadata": {},
   "outputs": [],
   "source": [
    "# chr7:66,994,210\n",
    "jkgenome.spliceAI_run('chr1',173828312,'TT','C')"
   ]
  },
  {
   "cell_type": "code",
   "execution_count": null,
   "metadata": {},
   "outputs": [],
   "source": [
    "\n",
    "jkgenome.spliceAI_run('chr11',108215609,'G','')\n"
   ]
  },
  {
   "cell_type": "code",
   "execution_count": null,
   "metadata": {},
   "outputs": [],
   "source": [
    "# chr7:66,994,210\n",
    "jkgenome.spliceAI_run('chrX',43844538,'G','T')"
   ]
  },
  {
   "cell_type": "code",
   "execution_count": null,
   "metadata": {},
   "outputs": [],
   "source": [
    "reload(jkgenome)"
   ]
  },
  {
   "cell_type": "code",
   "execution_count": null,
   "metadata": {},
   "outputs": [],
   "source": [
    "jkgenome.mes5('CCGGTCTGT')"
   ]
  },
  {
   "cell_type": "code",
   "execution_count": null,
   "metadata": {},
   "outputs": [],
   "source": [
    "reload(jkgenome)"
   ]
  },
  {
   "cell_type": "code",
   "execution_count": null,
   "metadata": {},
   "outputs": [],
   "source": [
    "jkgenome.hexamer4_byCoord_general('8',1780315,1780316,'+','C','T',hexH4,'hg38')"
   ]
  },
  {
   "cell_type": "code",
   "execution_count": null,
   "metadata": {},
   "outputs": [],
   "source": [
    "reload(jkgenome)"
   ]
  },
  {
   "cell_type": "code",
   "execution_count": 8,
   "metadata": {
    "tags": []
   },
   "outputs": [
    {
     "name": "stdout",
     "output_type": "stream",
     "text": [
      "Hexamer\n",
      "/HDD8/ypil/djg-api-test/modules/data\n",
      "hg38\n",
      "/HDD8/ypil/djg-api-test/modules/data/D/Sequences/hg38/hg38.2bit   chrom: chr8   stapos:  1780484   endpos:  1780495\n",
      "{&#39;5p_exon&#39;: 1.1607961587263294, &#39;3p_exon&#39;: -0.781405387415135, &#39;5p_intron&#39;: 0.13550342597078913, &#39;3p_intron&#39;: 2.363088815448215}\n",
      "/HDD8/ypil/djg-api-test/modules/data\n",
      "hg38\n",
      "/HDD8/ypil/djg-api-test/modules/data/D/Sequences/hg38/hg38.2bit   chrom: chr8   stapos:  1780467   endpos:  1780512\n"
     ]
    },
    {
     "ename": "ValueError",
     "evalue": "could not convert string to float: &#39;&#39;",
     "output_type": "error",
     "traceback": [
      "\u001b[0;31m---------------------------------------------------------------------------\u001b[0m",
      "\u001b[0;31mValueError\u001b[0m                                Traceback (most recent call last)",
      "\u001b[0;32m&lt;ipython-input-8-3a9dd1de9832&gt;\u001b[0m in \u001b[0;36m&lt;module&gt;\u001b[0;34m\u001b[0m\n\u001b[1;32m      1\u001b[0m \u001b[0;32mimport\u001b[0m \u001b[0mjkgenome\u001b[0m\u001b[0;34m\u001b[0m\u001b[0;34m\u001b[0m\u001b[0m\n\u001b[0;32m----&gt; 2\u001b[0;31m \u001b[0mjkgenome\u001b[0m\u001b[0;34m.\u001b[0m\u001b[0mvariant_bi\u001b[0m\u001b[0;34m(\u001b[0m\u001b[0;34m&#39;8&#39;\u001b[0m\u001b[0;34m,\u001b[0m\u001b[0;36m1780490\u001b[0m\u001b[0;34m,\u001b[0m\u001b[0;34m&#39;+&#39;\u001b[0m\u001b[0;34m,\u001b[0m\u001b[0;34m&#39;G&#39;\u001b[0m\u001b[0;34m,\u001b[0m\u001b[0;34m&#39;A&#39;\u001b[0m\u001b[0;34m,\u001b[0m\u001b[0;34m&#39;hg38&#39;\u001b[0m\u001b[0;34m)\u001b[0m\u001b[0;34m\u001b[0m\u001b[0;34m\u001b[0m\u001b[0m\n\u001b[0m",
      "\u001b[0;32m/HDD8/ypil/djg-api-test/modules/jkgenome.py\u001b[0m in \u001b[0;36mvariant_bi\u001b[0;34m(chrNum, chrPos, strand, ref, alt, assembly, hexH4)\u001b[0m\n\u001b[1;32m   1062\u001b[0m     \u001b[0mprint\u001b[0m\u001b[0;34m\u001b[0m\u001b[0;34m\u001b[0m\u001b[0m\n\u001b[1;32m   1063\u001b[0m \u001b[0;34m\u001b[0m\u001b[0m\n\u001b[0;32m-&gt; 1064\u001b[0;31m     \u001b[0mmes_result\u001b[0m \u001b[0;34m=\u001b[0m \u001b[0mmes_byCoord\u001b[0m\u001b[0;34m(\u001b[0m\u001b[0mchrNum\u001b[0m\u001b[0;34m,\u001b[0m\u001b[0mchrPos\u001b[0m\u001b[0;34m,\u001b[0m\u001b[0mstrand\u001b[0m\u001b[0;34m,\u001b[0m\u001b[0mref\u001b[0m\u001b[0;34m,\u001b[0m\u001b[0malt\u001b[0m\u001b[0;34m,\u001b[0m\u001b[0massembly\u001b[0m\u001b[0;34m,\u001b[0m\u001b[0mverbose\u001b[0m\u001b[0;34m=\u001b[0m\u001b[0;32mTrue\u001b[0m\u001b[0;34m)\u001b[0m\u001b[0;34m\u001b[0m\u001b[0;34m\u001b[0m\u001b[0m\n\u001b[0m\u001b[1;32m   1065\u001b[0m \u001b[0;34m\u001b[0m\u001b[0m\n\u001b[1;32m   1066\u001b[0m     \u001b[0mprint\u001b[0m \u001b[0;34m(\u001b[0m\u001b[0;34m&#39;MES donor&#39;\u001b[0m\u001b[0;34m)\u001b[0m\u001b[0;34m\u001b[0m\u001b[0;34m\u001b[0m\u001b[0m\n",
      "\u001b[0;32m/HDD8/ypil/djg-api-test/modules/jkgenome.py\u001b[0m in \u001b[0;36mmes_byCoord\u001b[0;34m(chrNum, pos, strand, ref, alt, assembly, verbose)\u001b[0m\n\u001b[1;32m    932\u001b[0m     \u001b[0ms_after\u001b[0m \u001b[0;34m=\u001b[0m \u001b[0ms_before\u001b[0m\u001b[0;34m[\u001b[0m\u001b[0;34m:\u001b[0m\u001b[0;36m22\u001b[0m\u001b[0;34m]\u001b[0m \u001b[0;34m+\u001b[0m \u001b[0malt\u001b[0m \u001b[0;34m+\u001b[0m \u001b[0ms_before\u001b[0m\u001b[0;34m[\u001b[0m\u001b[0;34m-\u001b[0m\u001b[0;36m22\u001b[0m\u001b[0;34m:\u001b[0m\u001b[0;34m]\u001b[0m\u001b[0;34m\u001b[0m\u001b[0;34m\u001b[0m\u001b[0m\n\u001b[1;32m    933\u001b[0m \u001b[0;34m\u001b[0m\u001b[0m\n\u001b[0;32m--&gt; 934\u001b[0;31m     \u001b[0mmes5_tup\u001b[0m \u001b[0;34m=\u001b[0m \u001b[0;34m(\u001b[0m\u001b[0mmes5_scan\u001b[0m\u001b[0;34m(\u001b[0m\u001b[0ms_before\u001b[0m\u001b[0;34m[\u001b[0m\u001b[0;36m14\u001b[0m\u001b[0;34m:\u001b[0m\u001b[0;34m-\u001b[0m\u001b[0;36m14\u001b[0m\u001b[0;34m]\u001b[0m\u001b[0;34m)\u001b[0m\u001b[0;34m,\u001b[0m\u001b[0mmes5_scan\u001b[0m\u001b[0;34m(\u001b[0m\u001b[0ms_after\u001b[0m\u001b[0;34m[\u001b[0m\u001b[0;36m14\u001b[0m\u001b[0;34m:\u001b[0m\u001b[0;34m-\u001b[0m\u001b[0;36m14\u001b[0m\u001b[0;34m]\u001b[0m\u001b[0;34m)\u001b[0m\u001b[0;34m,\u001b[0m\u001b[0;34m)\u001b[0m\u001b[0;34m\u001b[0m\u001b[0;34m\u001b[0m\u001b[0m\n\u001b[0m\u001b[1;32m    935\u001b[0m     \u001b[0mmes3_tup\u001b[0m \u001b[0;34m=\u001b[0m \u001b[0;34m(\u001b[0m\u001b[0mmes3_scan\u001b[0m\u001b[0;34m(\u001b[0m\u001b[0ms_before\u001b[0m\u001b[0;34m)\u001b[0m\u001b[0;34m,\u001b[0m\u001b[0mmes3_scan\u001b[0m\u001b[0;34m(\u001b[0m\u001b[0ms_after\u001b[0m\u001b[0;34m)\u001b[0m\u001b[0;34m,\u001b[0m\u001b[0;34m)\u001b[0m\u001b[0;34m\u001b[0m\u001b[0;34m\u001b[0m\u001b[0m\n\u001b[1;32m    936\u001b[0m \u001b[0;34m\u001b[0m\u001b[0m\n",
      "\u001b[0;32m/HDD8/ypil/djg-api-test/modules/jkgenome.py\u001b[0m in \u001b[0;36mmes5_scan\u001b[0;34m(seq)\u001b[0m\n\u001b[1;32m    892\u001b[0m     \u001b[0;32mfor\u001b[0m \u001b[0mi\u001b[0m \u001b[0;32min\u001b[0m \u001b[0mrange\u001b[0m\u001b[0;34m(\u001b[0m\u001b[0mlen\u001b[0m\u001b[0;34m(\u001b[0m\u001b[0mseq\u001b[0m\u001b[0;34m)\u001b[0m\u001b[0;34m-\u001b[0m\u001b[0;36m8\u001b[0m\u001b[0;34m)\u001b[0m\u001b[0;34m:\u001b[0m\u001b[0;34m\u001b[0m\u001b[0;34m\u001b[0m\u001b[0m\n\u001b[1;32m    893\u001b[0m         \u001b[0;32mif\u001b[0m \u001b[0mseq\u001b[0m\u001b[0;34m[\u001b[0m\u001b[0mi\u001b[0m\u001b[0;34m+\u001b[0m\u001b[0;36m3\u001b[0m\u001b[0;34m:\u001b[0m\u001b[0mi\u001b[0m\u001b[0;34m+\u001b[0m\u001b[0;36m5\u001b[0m\u001b[0;34m]\u001b[0m \u001b[0;34m==\u001b[0m \u001b[0;34m&#39;GT&#39;\u001b[0m\u001b[0;34m:\u001b[0m\u001b[0;34m\u001b[0m\u001b[0;34m\u001b[0m\u001b[0m\n\u001b[0;32m--&gt; 894\u001b[0;31m             \u001b[0mresultL\u001b[0m\u001b[0;34m.\u001b[0m\u001b[0mappend\u001b[0m\u001b[0;34m(\u001b[0m\u001b[0mmes5\u001b[0m\u001b[0;34m(\u001b[0m\u001b[0mseq\u001b[0m\u001b[0;34m[\u001b[0m\u001b[0mi\u001b[0m\u001b[0;34m:\u001b[0m\u001b[0mi\u001b[0m\u001b[0;34m+\u001b[0m\u001b[0;36m9\u001b[0m\u001b[0;34m]\u001b[0m\u001b[0;34m)\u001b[0m\u001b[0;34m)\u001b[0m\u001b[0;34m\u001b[0m\u001b[0;34m\u001b[0m\u001b[0m\n\u001b[0m\u001b[1;32m    895\u001b[0m         \u001b[0;32melse\u001b[0m\u001b[0;34m:\u001b[0m\u001b[0;34m\u001b[0m\u001b[0;34m\u001b[0m\u001b[0m\n\u001b[1;32m    896\u001b[0m             \u001b[0mresultL\u001b[0m\u001b[0;34m.\u001b[0m\u001b[0mappend\u001b[0m\u001b[0;34m(\u001b[0m\u001b[0;32mNone\u001b[0m\u001b[0;34m)\u001b[0m\u001b[0;34m\u001b[0m\u001b[0;34m\u001b[0m\u001b[0m\n",
      "\u001b[0;32m/HDD8/ypil/djg-api-test/modules/jkgenome.py\u001b[0m in \u001b[0;36mmes5\u001b[0;34m(seq)\u001b[0m\n\u001b[1;32m    875\u001b[0m         \u001b[0;32mraise\u001b[0m \u001b[0mException\u001b[0m\u001b[0;34m\u001b[0m\u001b[0;34m\u001b[0m\u001b[0m\n\u001b[1;32m    876\u001b[0m \u001b[0;34m\u001b[0m\u001b[0m\n\u001b[0;32m--&gt; 877\u001b[0;31m     \u001b[0;32mreturn\u001b[0m \u001b[0mfloat\u001b[0m\u001b[0;34m(\u001b[0m\u001b[0mos\u001b[0m\u001b[0;34m.\u001b[0m\u001b[0mpopen\u001b[0m\u001b[0;34m(\u001b[0m\u001b[0;34m&#39;cd %s/tools/maxentscan; perl score5_mod.pl %s&#39;\u001b[0m \u001b[0;34m%\u001b[0m \u001b[0;34m(\u001b[0m\u001b[0mhomedir\u001b[0m\u001b[0;34m,\u001b[0m\u001b[0mseq\u001b[0m\u001b[0;34m)\u001b[0m\u001b[0;34m)\u001b[0m\u001b[0;34m.\u001b[0m\u001b[0mreadline\u001b[0m\u001b[0;34m(\u001b[0m\u001b[0;34m)\u001b[0m\u001b[0;34m)\u001b[0m\u001b[0;34m\u001b[0m\u001b[0;34m\u001b[0m\u001b[0m\n\u001b[0m\u001b[1;32m    878\u001b[0m \u001b[0;34m\u001b[0m\u001b[0m\n\u001b[1;32m    879\u001b[0m \u001b[0;32mdef\u001b[0m \u001b[0mmes3\u001b[0m\u001b[0;34m(\u001b[0m\u001b[0mseq\u001b[0m\u001b[0;34m)\u001b[0m\u001b[0;34m:\u001b[0m \u001b[0;31m# seq example: ttcca aacga acttt tgtag GGA (23)\u001b[0m\u001b[0;34m\u001b[0m\u001b[0;34m\u001b[0m\u001b[0m\n",
      "\u001b[0;31mValueError\u001b[0m: could not convert string to float: &#39;&#39;"
     ]
    }
   ],
   "source": [
    "import jkgenome\n",
    "jkgenome.variant_bi('8',1780490,'+','G','A','hg38')"
   ]
  },
  {
   "cell_type": "code",
   "execution_count": null,
   "metadata": {},
   "outputs": [],
   "source": [
    "jkgenome.primateAI_raw('8:1780490-1780490')"
   ]
  },
  {
   "cell_type": "code",
   "execution_count": 7,
   "metadata": {},
   "outputs": [
    {
     "data": {
      "text/plain": [
       "[]"
      ]
     },
     "execution_count": 7,
     "metadata": {},
     "output_type": "execute_result"
    }
   ],
   "source": [
    "jkgenome.spliceAI('11:108241292-108241292')"
   ]
  },
  {
   "cell_type": "code",
   "execution_count": null,
   "metadata": {},
   "outputs": [],
   "source": [
    "jkgenome.primateAI_raw('1:40089492-40089492')"
   ]
  },
  {
   "cell_type": "code",
   "execution_count": null,
   "metadata": {},
   "outputs": [],
   "source": [
    "chr11, 108236168, A>C"
   ]
  },
  {
   "cell_type": "code",
   "execution_count": 13,
   "metadata": {},
   "outputs": [
    {
     "data": {
      "text/plain": [
       "[]"
      ]
     },
     "execution_count": 13,
     "metadata": {},
     "output_type": "execute_result"
    }
   ],
   "source": [
    "\n",
    "jkgenome.spliceAI('11:108236168-108236168') #output 01"
   ]
  },
  {
   "cell_type": "code",
   "execution_count": null,
   "metadata": {},
   "outputs": [],
   "source": [
    "h = jkgenome.loadBlatOutputByGene('/Users/jinkuk/D/Sequences/hg38/refseq/refFlat.txt')"
   ]
  },
  {
   "cell_type": "code",
   "execution_count": null,
   "metadata": {},
   "outputs": [],
   "source": []
  },
  {
   "cell_type": "code",
   "execution_count": null,
   "metadata": {},
   "outputs": [],
   "source": [
    "df = pd.read_csv('/Users/jinkuk/Downloads/invitae_AR_61genes_including_genename_v1.csv')"
   ]
  },
  {
   "cell_type": "code",
   "execution_count": null,
   "metadata": {},
   "outputs": [],
   "source": [
    "df[['gene','locus']].groupby('gene').count().sort_values('locus',ascending=False)"
   ]
  },
  {
   "cell_type": "code",
   "execution_count": null,
   "metadata": {},
   "outputs": [],
   "source": [
    "df[['gene','locus']].groupby('gene').count().hist()"
   ]
  },
  {
   "cell_type": "code",
   "execution_count": null,
   "metadata": {},
   "outputs": [],
   "source": [
    "len(df.gene.drop_duplicates())"
   ]
  },
  {
   "cell_type": "code",
   "execution_count": null,
   "metadata": {},
   "outputs": [],
   "source": [
    "sorted(list(set(list(df.gene.values))))"
   ]
  },
  {
   "cell_type": "code",
   "execution_count": null,
   "metadata": {},
   "outputs": [],
   "source": []
  }
 ],
 "metadata": {
  "kernelspec": {
   "display_name": "Python 3",
   "language": "python",
   "name": "python3"
  },
  "language_info": {
   "codemirror_mode": {
    "name": "ipython",
    "version": 3
   },
   "file_extension": ".py",
   "mimetype": "text/x-python",
   "name": "python",
   "nbconvert_exporter": "python",
   "pygments_lexer": "ipython3",
   "version": "3.6.9"
  }
 },
 "nbformat": 4,
 "nbformat_minor": 4
}
