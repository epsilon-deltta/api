{
 "cells": [
  {
   "cell_type": "code",
   "execution_count": 2,
   "metadata": {},
   "outputs": [],
   "source": [
    "import jkgenome as jk\n"
   ]
  },
  {
   "cell_type": "code",
   "execution_count": 9,
   "metadata": {},
   "outputs": [
    {
     "name": "stdout",
     "output_type": "stream",
     "text": [
      "('chr12', 6022033, '-')\n",
      "('chr12', 6022032, '-')\n",
      "('chr12', 6022031, '-')\n",
      "========\n",
      "twoBitFrag CCG\n",
      "getRegionType [('VWF', 'NM_000552', 'cds_m', 'sense', (1255, 122))]\n",
      "toString  chr12:6019619-6019622-\n"
     ]
    }
   ],
   "source": [
    "# locus : 0base end - exclusive\n",
    "# NM_000552:Pro1266Gln (cc~  caa cag)\n",
    "# NM_000552:c.3796 ,3797 ,3798\n",
    "# 12:6019620-6019622 cgg > gcc\n",
    "# 12:6019617 12:6019616 12:6019615 = (c g t) > (g c a)  gat aga\n",
    "# cca > caa ...\n",
    "# 12:6019616 c>a .. \n",
    "nm = []\n",
    "nm.append (jk.convertTrans2Genome('NM_000552',3796)[0] ) \n",
    "nm.append (jk.convertTrans2Genome('NM_000552',3797)[0] )\n",
    "nm.append (jk.convertTrans2Genome('NM_000552',3798)[0] )\n",
    "\n",
    "for info in nm:\n",
    "    print(info)\n",
    "print(\"=\"*8)\n",
    "nm0 = jk.locus('chr12:6019619-6019622-')# 0base exclude?\n",
    "print(\"twoBitFrag\"   , nm0.twoBitFrag())\n",
    "print(\"getRegionType\", nm0.regionType())\n",
    "print(\"toString \"    , nm0.toString()  )"
   ]
  },
  {
   "cell_type": "code",
   "execution_count": 8,
   "metadata": {},
   "outputs": [
    {
     "name": "stdout",
     "output_type": "stream",
     "text": [
      "{'codons': ['aug']} {'codons': ['uaa', 'uag', 'uga']}\n"
     ]
    }
   ],
   "source": [
    "import amino as am\n",
    "a= am.amino_acid()\n",
    "\n",
    "a.amino['start']\n",
    "print(am.amino['start'],am.amino['stop'])\n"
   ]
  },
  {
   "cell_type": "code",
   "execution_count": 10,
   "metadata": {},
   "outputs": [
    {
     "name": "stdout",
     "output_type": "stream",
     "text": [
      "a\t am\t \n"
     ]
    }
   ],
   "source": [
    "%who"
   ]
  }
 ],
 "metadata": {
  "kernelspec": {
   "display_name": "Python 3.8.3 64-bit ('anaconda3': virtualenv)",
   "language": "python",
   "name": "python38364bitanaconda3virtualenv3a74bdeab69347548264d5f43e6826e3"
  },
  "language_info": {
   "codemirror_mode": {
    "name": "ipython",
    "version": 3
   },
   "file_extension": ".py",
   "mimetype": "text/x-python",
   "name": "python",
   "nbconvert_exporter": "python",
   "pygments_lexer": "ipython3",
   "version": "3.8.3"
  }
 },
 "nbformat": 4,
 "nbformat_minor": 4
}
