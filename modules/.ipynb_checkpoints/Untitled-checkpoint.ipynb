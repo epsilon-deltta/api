{
 "cells": [
  {
   "cell_type": "code",
   "execution_count": 4,
   "metadata": {},
   "outputs": [
    {
     "name": "stdout",
     "output_type": "stream",
     "text": [
      "testing\n"
     ]
    }
   ],
   "source": [
    "import jkgenome as jk\n"
   ]
  },
  {
   "cell_type": "code",
   "execution_count": 43,
   "metadata": {},
   "outputs": [
    {
     "name": "stdout",
     "output_type": "stream",
     "text": [
      "('chr12', 6022033, '-')\n",
      "('chr12', 6022032, '-')\n",
      "('chr12', 6022031, '-')\n",
      "  chrom: 12   stapos:  6022031   endpos:  6022033\n",
      "\n"
     ]
    }
   ],
   "source": [
    "# NM_000552\n",
    "# \n",
    "nm = []\n",
    "nm.append (jk.convertTrans2Genome('NM_000552',3796)[0] )\n",
    "nm.append (jk.convertTrans2Genome('NM_000552',3797)[0] )\n",
    "nm.append (jk.convertTrans2Genome('NM_000552',3798)[0] )\n",
    "\n",
    "for info in nm:\n",
    "    print(info)\n",
    "nm0 = jk.locus('12:6022031-6022033-')\n",
    "print(\"twhoBitFrag\",nm0.twoBitFrag())\n",
    "print(\"getRegionType\",nm0.regionType())"
   ]
  },
  {
   "cell_type": "code",
   "execution_count": null,
   "metadata": {},
   "outputs": [],
   "source": []
  }
 ],
 "metadata": {
  "kernelspec": {
   "display_name": "Python 3.8.3 64-bit ('anaconda3': virtualenv)",
   "language": "python",
   "name": "python38364bitanaconda3virtualenv3a74bdeab69347548264d5f43e6826e3"
  },
  "language_info": {
   "codemirror_mode": {
    "name": "ipython",
    "version": 3
   },
   "file_extension": ".py",
   "mimetype": "text/x-python",
   "name": "python",
   "nbconvert_exporter": "python",
   "pygments_lexer": "ipython3",
   "version": "3.8.3"
  }
 },
 "nbformat": 4,
 "nbformat_minor": 4
}
